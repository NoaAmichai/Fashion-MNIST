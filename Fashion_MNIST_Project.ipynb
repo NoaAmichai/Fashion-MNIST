{
 "cells": [
  {
   "cell_type": "code",
   "execution_count": 75,
   "id": "5ff4a41d",
   "metadata": {},
   "outputs": [],
   "source": [
    "import pandas as pd\n",
    "import numpy as np\n",
    "%matplotlib inline\n",
    "import matplotlib.pyplot as plt\n",
    "import seaborn as sns\n",
    "import warnings\n",
    "warnings.filterwarnings('ignore')\n",
    "\n",
    "import tensorflow as tf\n",
    "from sklearn.metrics import accuracy_score"
   ]
  },
  {
   "cell_type": "code",
   "execution_count": 76,
   "id": "25da1a7b",
   "metadata": {},
   "outputs": [],
   "source": [
    "fashion_mnist = tf.keras.datasets.fashion_mnist\n",
    "\n",
    "(X_train, y_train), (X_test, y_test) = fashion_mnist.load_data()"
   ]
  },
  {
   "cell_type": "code",
   "execution_count": 77,
   "id": "76c3d88e",
   "metadata": {},
   "outputs": [],
   "source": [
    "class_names = [\"T-shirt/top\", \"Trouser\", \"Pullover\", \"Dress\", \"Coat\",\n",
    "               \"Sandal\", \"Shirt\", \"Sneaker\", \"Bag\", \"Ankle boot\"]"
   ]
  },
  {
   "cell_type": "code",
   "execution_count": 78,
   "id": "99b2d35e",
   "metadata": {},
   "outputs": [
    {
     "name": "stdout",
     "output_type": "stream",
     "text": [
      "X_train.shape : (60000, 28, 28)\n",
      "y_train.shape : (60000,)\n",
      "X_test.shape : (10000, 28, 28)\n",
      "y_test.shape : (10000,)\n"
     ]
    }
   ],
   "source": [
    "print(\"X_train.shape :\" ,X_train.shape)\n",
    "print(\"y_train.shape :\", y_train.shape)\n",
    "print (\"X_test.shape :\" , X_test.shape)\n",
    "print(\"y_test.shape :\", y_test.shape)"
   ]
  },
  {
   "cell_type": "code",
   "execution_count": 79,
   "id": "8c11f347",
   "metadata": {},
   "outputs": [],
   "source": [
    "X_train = X_train / 255.0"
   ]
  },
  {
   "cell_type": "raw",
   "id": "b403ef63",
   "metadata": {},
   "source": [
    "class_names[y_train[0]]"
   ]
  },
  {
   "cell_type": "code",
   "execution_count": 80,
   "id": "39a3de7d",
   "metadata": {},
   "outputs": [],
   "source": [
    "X_train = X_train.reshape((60000,28*28))\n",
    "X_test = X_test.reshape((10000, 28*28))"
   ]
  },
  {
   "cell_type": "code",
   "execution_count": 81,
   "id": "f9f6e8f3",
   "metadata": {},
   "outputs": [],
   "source": [
    "y_train = y_train.reshape((60000,1))\n",
    "y_test = y_test.reshape((10000,1))"
   ]
  },
  {
   "cell_type": "code",
   "execution_count": 82,
   "id": "84056a22",
   "metadata": {
    "scrolled": false
   },
   "outputs": [
    {
     "name": "stdout",
     "output_type": "stream",
     "text": [
      "X_train.shape : (60000, 784)\n",
      "y_train.shape : (60000, 1)\n",
      "X_test.shape : (10000, 784)\n",
      "y_test.shape : (10000, 1)\n"
     ]
    }
   ],
   "source": [
    "print(\"X_train.shape :\" ,X_train.shape)\n",
    "print(\"y_train.shape :\", y_train.shape)\n",
    "print (\"X_test.shape :\" , X_test.shape)\n",
    "print(\"y_test.shape :\", y_test.shape)"
   ]
  },
  {
   "cell_type": "code",
   "execution_count": 94,
   "id": "80facad3",
   "metadata": {},
   "outputs": [
    {
     "name": "stdout",
     "output_type": "stream",
     "text": [
      "y_train : {0: 6000, 1: 6000, 2: 6000, 3: 6000, 4: 6000, 5: 6000, 6: 6000, 7: 6000, 8: 6000, 9: 6000}\n",
      "y_test : {0: 1000, 1: 1000, 2: 1000, 3: 1000, 4: 1000, 5: 1000, 6: 1000, 7: 1000, 8: 1000, 9: 1000}\n"
     ]
    }
   ],
   "source": [
    "#Check that we have balnced data\n",
    "unique, counts = np.unique(y_train, return_counts=True)\n",
    "print(\"y_train :\", dict(zip(unique, counts)))\n",
    "\n",
    "unique, counts = np.unique(y_test, return_counts=True)\n",
    "print(\"y_test :\", dict(zip(unique, counts)))"
   ]
  },
  {
   "cell_type": "markdown",
   "id": "1a9037b2",
   "metadata": {},
   "source": [
    "##  Models:\n",
    "\n",
    "We will try several models and in the end we will decide which is the best model.<br>\n",
    "We will try the following models:\n",
    "* Random Forest\n",
    "* KNN"
   ]
  },
  {
   "cell_type": "code",
   "execution_count": 65,
   "id": "c649578b",
   "metadata": {},
   "outputs": [
    {
     "name": "stdout",
     "output_type": "stream",
     "text": [
      "The DummyClassifier score is: 0.1\n"
     ]
    }
   ],
   "source": [
    "# Before we try real models, we will try a dummyClassifier. we will try to get high score than the dummyModel.\n",
    "from sklearn.dummy import DummyClassifier\n",
    "dummy_clf = DummyClassifier(strategy=\"most_frequent\", random_state=0)\n",
    "dummy_clf.fit(X_train, y_train)\n",
    "dummy_clf.predict(X_train)\n",
    "print(\"The DummyClassifier score is:\" ,dummy_clf.score(X_test, y_test))"
   ]
  },
  {
   "cell_type": "code",
   "execution_count": 66,
   "id": "de8961d8",
   "metadata": {},
   "outputs": [],
   "source": [
    "from sklearn.metrics import classification_report\n",
    "from sklearn import metrics"
   ]
  },
  {
   "cell_type": "code",
   "execution_count": 112,
   "id": "3385a288",
   "metadata": {},
   "outputs": [
    {
     "name": "stdout",
     "output_type": "stream",
     "text": [
      "precision_score: 0.397\n",
      "Accuracy: 0.321\n",
      "Classification Report: \n",
      "               precision    recall  f1-score   support\n",
      "\n",
      "           0       0.49      0.74      0.59      1000\n",
      "           1       0.99      0.36      0.53      1000\n",
      "           2       0.23      0.85      0.36      1000\n",
      "           3       0.69      0.10      0.17      1000\n",
      "           4       0.50      0.22      0.31      1000\n",
      "           5       0.00      0.00      0.00      1000\n",
      "           6       0.27      0.12      0.16      1000\n",
      "           7       0.00      0.00      0.00      1000\n",
      "           8       0.15      0.42      0.22      1000\n",
      "           9       0.64      0.41      0.50      1000\n",
      "\n",
      "    accuracy                           0.32     10000\n",
      "   macro avg       0.40      0.32      0.28     10000\n",
      "weighted avg       0.40      0.32      0.28     10000\n",
      "\n"
     ]
    }
   ],
   "source": [
    "#KNN\n",
    "from sklearn.neighbors import KNeighborsClassifier\n",
    "\n",
    "KNN = KNeighborsClassifier().fit(X_train, y_train)\n",
    "y_pred = KNN.predict(X_test)\n",
    "precision = round(metrics.precision_score(y_test, y_pred, average=\"weighted\"),3)            \n",
    "accuracy = round(metrics.accuracy_score(y_test, y_pred),3)\n",
    "print(\"precision_score:\", precision)\n",
    "print(\"Accuracy:\", accuracy)\n",
    "print(\"Classification Report: \\n\", metrics.classification_report(y_test, y_pred))"
   ]
  },
  {
   "cell_type": "code",
   "execution_count": 106,
   "id": "a60d4552",
   "metadata": {},
   "outputs": [
    {
     "data": {
      "image/png": "[encoded data removed]",
      "text/plain": [
       "<Figure size 576x432 with 2 Axes>"
      ]
     },
     "metadata": {
      "needs_background": "light"
     },
     "output_type": "display_data"
    }
   ],
   "source": [
    "from sklearn.metrics import confusion_matrix\n",
    "\n",
    "cf_matrix = confusion_matrix(y_test, y_pred)\n",
    "fig, ax = plt.subplots(figsize=(8,6))\n",
    "ax = sns.heatmap(cf_matrix, annot=True, fmt='', cmap='Oranges')\n",
    "ax.set_title('Confusion Matrix\\n');\n",
    "ax.set_xlabel('\\nPredicted Values')\n",
    "ax.set_ylabel('Actual Values ');\n",
    "ax.xaxis.set_ticklabels([\"T-shirt/top\", \"Trouser\", \"Pullover\", \"Dress\", \"Coat\",\n",
    "               \"Sandal\", \"Shirt\", \"Sneaker\", \"Bag\", \"Ankle boot\"],rotation=90)\n",
    "ax.yaxis.set_ticklabels([\"T-shirt/top\", \"Trouser\", \"Pullover\", \"Dress\", \"Coat\",\n",
    "               \"Sandal\", \"Shirt\", \"Sneaker\", \"Bag\", \"Ankle boot\"],rotation=0)\n",
    "\n",
    "plt.show()"
   ]
  },
  {
   "cell_type": "code",
   "execution_count": 107,
   "id": "366463cd",
   "metadata": {},
   "outputs": [
    {
     "name": "stdout",
     "output_type": "stream",
     "text": [
      "Accuracy: 0.694\n",
      "Classification Report: \n",
      "               precision    recall  f1-score   support\n",
      "\n",
      "           0       0.74      0.35      0.48      1000\n",
      "           1       0.89      0.91      0.90      1000\n",
      "           2       0.43      0.73      0.54      1000\n",
      "           3       0.80      0.74      0.77      1000\n",
      "           4       0.48      0.25      0.33      1000\n",
      "           5       0.98      0.86      0.91      1000\n",
      "           6       0.33      0.48      0.39      1000\n",
      "           7       0.88      0.80      0.84      1000\n",
      "           8       0.93      0.85      0.89      1000\n",
      "           9       0.81      0.96      0.88      1000\n",
      "\n",
      "    accuracy                           0.69     10000\n",
      "   macro avg       0.73      0.69      0.69     10000\n",
      "weighted avg       0.73      0.69      0.69     10000\n",
      "\n"
     ]
    }
   ],
   "source": [
    "# RandomForestClassifier\n",
    "from sklearn.ensemble import RandomForestClassifier\n",
    "\n",
    "RF = RandomForestClassifier(random_state=42).fit(X_train, y_train)\n",
    "y_pred = RF.predict(X_test)\n",
    "accuracy = round(metrics.accuracy_score(y_test, y_pred),3)\n",
    "print(\"Accuracy:\", accuracy)\n",
    "print(\"Classification Report: \\n\", metrics.classification_report(y_test, y_pred))"
   ]
  },
  {
   "cell_type": "code",
   "execution_count": 108,
   "id": "b1e34a6a",
   "metadata": {},
   "outputs": [
    {
     "name": "stdout",
     "output_type": "stream",
     "text": [
      "[16:07:37] WARNING: C:/Users/Administrator/workspace/xgboost-win64_release_1.5.1/src/learner.cc:1115: Starting in XGBoost 1.3.0, the default evaluation metric used with the objective 'multi:softprob' was changed from 'merror' to 'mlogloss'. Explicitly set eval_metric if you'd like to restore the old behavior.\n",
      "precision_score: 0.788\n",
      "Accuracy: 0.772\n",
      "Classification Report: \n",
      "               precision    recall  f1-score   support\n",
      "\n",
      "           0       0.80      0.68      0.73      1000\n",
      "           1       0.85      0.97      0.91      1000\n",
      "           2       0.63      0.58      0.61      1000\n",
      "           3       0.92      0.74      0.82      1000\n",
      "           4       0.54      0.76      0.63      1000\n",
      "           5       0.99      0.87      0.92      1000\n",
      "           6       0.50      0.49      0.49      1000\n",
      "           7       0.96      0.77      0.86      1000\n",
      "           8       0.86      0.89      0.87      1000\n",
      "           9       0.82      0.98      0.89      1000\n",
      "\n",
      "    accuracy                           0.77     10000\n",
      "   macro avg       0.79      0.77      0.77     10000\n",
      "weighted avg       0.79      0.77      0.77     10000\n",
      "\n"
     ]
    }
   ],
   "source": [
    "from xgboost import XGBClassifier\n",
    "from sklearn.metrics import accuracy_score\n",
    "\n",
    "XGB = XGBClassifier().fit(X_train, y_train)\n",
    "y_pred = XGB.predict(X_test)\n",
    "\n",
    "precision = round(metrics.precision_score(y_test, y_pred, average=\"weighted\"),3)            \n",
    "accuracy = round(metrics.accuracy_score(y_test, y_pred),3)\n",
    "print(\"precision_score:\", precision)\n",
    "print(\"Accuracy:\", accuracy)\n",
    "print(\"Classification Report: \\n\", metrics.classification_report(y_test, y_pred))"
   ]
  },
  {
   "cell_type": "code",
   "execution_count": 15,
   "id": "60d1c7c7",
   "metadata": {},
   "outputs": [],
   "source": [
    "#Searching for better performance out of the models with RandomizedSearch\n",
    "from sklearn.model_selection import RandomizedSearchCV"
   ]
  },
  {
   "cell_type": "code",
   "execution_count": null,
   "id": "ec293381",
   "metadata": {},
   "outputs": [],
   "source": []
  },
  {
   "cell_type": "code",
   "execution_count": null,
   "id": "1b265a73",
   "metadata": {},
   "outputs": [],
   "source": []
  },
  {
   "cell_type": "code",
   "execution_count": null,
   "id": "3aa8ea0d",
   "metadata": {},
   "outputs": [],
   "source": []
  },
  {
   "cell_type": "code",
   "execution_count": null,
   "id": "9436813c",
   "metadata": {},
   "outputs": [],
   "source": []
  }
 ],
 "metadata": {
  "kernelspec": {
   "display_name": "Python 3 (ipykernel)",
   "language": "python",
   "name": "python3"
  },
  "language_info": {
   "codemirror_mode": {
    "name": "ipython",
    "version": 3
   },
   "file_extension": ".py",
   "mimetype": "text/x-python",
   "name": "python",
   "nbconvert_exporter": "python",
   "pygments_lexer": "ipython3",
   "version": "3.8.8"
  }
 },
 "nbformat": 4,
 "nbformat_minor": 5
}
