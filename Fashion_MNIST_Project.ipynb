{
 "cells": [
  {
   "cell_type": "code",
   "execution_count": 96,
   "id": "5ff4a41d",
   "metadata": {},
   "outputs": [],
   "source": [
    "import pandas as pd\n",
    "import numpy as np\n",
    "%matplotlib inline\n",
    "import matplotlib.pyplot as plt\n",
    "import seaborn as sns\n",
    "import warnings\n",
    "warnings.filterwarnings('ignore')\n",
    "\n",
    "# Make numpy values easier to read.\n",
    "np.set_printoptions(precision=3, suppress=True)\n",
    "import tensorflow as tf\n",
    "from sklearn.metrics import accuracy_score"
   ]
  },
  {
   "cell_type": "code",
   "execution_count": 97,
   "id": "25da1a7b",
   "metadata": {},
   "outputs": [],
   "source": [
    "fashion_mnist = tf.keras.datasets.fashion_mnist\n",
    "\n",
    "(X_train_full, y_train_full), (X_test, y_test) = fashion_mnist.load_data()"
   ]
  },
  {
   "cell_type": "code",
   "execution_count": 98,
   "id": "76c3d88e",
   "metadata": {},
   "outputs": [],
   "source": [
    "class_names = [\"T-shirt/top\", \"Trouser\", \"Pullover\", \"Dress\", \"Coat\",\n",
    "               \"Sandal\", \"Shirt\", \"Sneaker\", \"Bag\", \"Ankle boot\"]"
   ]
  },
  {
   "cell_type": "code",
   "execution_count": 99,
   "id": "d15772ec",
   "metadata": {},
   "outputs": [
    {
     "data": {
      "text/plain": [
       "dtype('uint8')"
      ]
     },
     "execution_count": 99,
     "metadata": {},
     "output_type": "execute_result"
    }
   ],
   "source": [
    "X_train_full.dtype"
   ]
  },
  {
   "cell_type": "code",
   "execution_count": 100,
   "id": "99b2d35e",
   "metadata": {},
   "outputs": [
    {
     "data": {
      "text/plain": [
       "(60000, 28, 28)"
      ]
     },
     "execution_count": 100,
     "metadata": {},
     "output_type": "execute_result"
    }
   ],
   "source": [
    "X_train_full.shape"
   ]
  },
  {
   "cell_type": "code",
   "execution_count": 101,
   "id": "8c11f347",
   "metadata": {},
   "outputs": [],
   "source": [
    "X_valid, X_train = X_train_full[:5000] / 255.0, X_train_full[5000:] / 255.0\n",
    "y_valid, y_train = y_train_full[:5000], y_train_full[5000:]"
   ]
  },
  {
   "cell_type": "code",
   "execution_count": 102,
   "id": "54497235",
   "metadata": {},
   "outputs": [
    {
     "data": {
      "text/plain": [
       "'Dress'"
      ]
     },
     "execution_count": 102,
     "metadata": {},
     "output_type": "execute_result"
    }
   ],
   "source": [
    "class_names[y_train[8]]"
   ]
  },
  {
   "cell_type": "raw",
   "id": "50c67ef2",
   "metadata": {},
   "source": [
    "X_train = X_train.reshape((X_train.shape[0], 1, 28, 28))\n",
    "X_test = X_test.reshape((X_test.shape[0], 1, 28, 28))"
   ]
  },
  {
   "cell_type": "code",
   "execution_count": 103,
   "id": "75c6c60f",
   "metadata": {},
   "outputs": [
    {
     "data": {
      "text/plain": [
       "(55000, 28, 28)"
      ]
     },
     "execution_count": 103,
     "metadata": {},
     "output_type": "execute_result"
    }
   ],
   "source": [
    "X_train.shape"
   ]
  },
  {
   "cell_type": "code",
   "execution_count": 104,
   "id": "39a3de7d",
   "metadata": {},
   "outputs": [],
   "source": [
    "# one-hot encode the training and testing labels\n",
    "y_train = tf.keras.utils.to_categorical(y_train, 10)\n",
    "y_test = tf.keras.utils.to_categorical(y_test, 10)"
   ]
  },
  {
   "cell_type": "code",
   "execution_count": 112,
   "id": "eb2ab155",
   "metadata": {},
   "outputs": [
    {
     "data": {
      "text/plain": [
       "array([[[0.   , 0.   , 0.   , 0.   , 0.   , 0.   , 0.   , 0.   , 0.   ,\n",
       "         0.   , 0.   , 0.   , 0.   , 0.   , 0.   , 0.   , 0.   , 0.   ,\n",
       "         0.   , 0.004, 0.   , 0.   , 0.   , 0.   , 0.   , 0.   , 0.   ,\n",
       "         0.   ],\n",
       "        [0.   , 0.   , 0.   , 0.   , 0.   , 0.   , 0.   , 0.   , 0.   ,\n",
       "         0.   , 0.   , 0.173, 0.498, 0.714, 0.725, 0.631, 0.471, 0.216,\n",
       "         0.   , 0.   , 0.   , 0.   , 0.   , 0.   , 0.   , 0.   , 0.   ,\n",
       "         0.   ],\n",
       "        [0.   , 0.   , 0.   , 0.   , 0.   , 0.   , 0.   , 0.   , 0.   ,\n",
       "         0.165, 0.776, 0.984, 1.   , 0.984, 0.976, 0.969, 1.   , 0.988,\n",
       "         0.839, 0.392, 0.   , 0.   , 0.   , 0.   , 0.   , 0.   , 0.   ,\n",
       "         0.   ],\n",
       "        [0.   , 0.   , 0.   , 0.   , 0.   , 0.   , 0.008, 0.   , 0.   ,\n",
       "         0.914, 0.988, 0.929, 0.937, 0.918, 0.929, 0.922, 0.929, 0.929,\n",
       "         0.996, 0.89 , 0.   , 0.   , 0.   , 0.   , 0.004, 0.   , 0.   ,\n",
       "         0.   ],\n",
       "        [0.   , 0.   , 0.   , 0.   , 0.   , 0.008, 0.   , 0.   , 0.063,\n",
       "         0.824, 0.882, 0.843, 0.686, 0.851, 0.847, 0.757, 0.769, 0.886,\n",
       "         0.867, 0.82 , 0.196, 0.   , 0.   , 0.008, 0.   , 0.   , 0.   ,\n",
       "         0.   ],\n",
       "        [0.   , 0.   , 0.   , 0.   , 0.008, 0.   , 0.   , 0.78 , 0.898,\n",
       "         0.91 , 0.902, 0.961, 0.8  , 0.859, 0.992, 0.961, 0.812, 0.761,\n",
       "         0.875, 0.906, 0.925, 0.922, 0.   , 0.   , 0.012, 0.   , 0.   ,\n",
       "         0.   ],\n",
       "        [0.   , 0.   , 0.   , 0.   , 0.004, 0.   , 0.537, 0.922, 0.8  ,\n",
       "         0.82 , 0.788, 0.82 , 0.918, 0.745, 0.918, 0.855, 0.843, 0.933,\n",
       "         0.937, 0.8  , 0.741, 0.878, 0.604, 0.   , 0.   , 0.   , 0.   ,\n",
       "         0.   ],\n",
       "        [0.   , 0.   , 0.   , 0.   , 0.   , 0.   , 0.761, 0.788, 0.784,\n",
       "         0.82 , 0.792, 0.757, 0.804, 0.761, 0.718, 0.855, 0.906, 0.773,\n",
       "         0.675, 0.71 , 0.757, 0.804, 0.78 , 0.   , 0.   , 0.   , 0.   ,\n",
       "         0.   ],\n",
       "        [0.   , 0.   , 0.   , 0.   , 0.   , 0.012, 0.831, 0.796, 0.737,\n",
       "         0.741, 0.769, 0.776, 0.776, 0.788, 0.769, 0.851, 0.702, 0.655,\n",
       "         0.718, 0.851, 0.773, 0.792, 0.859, 0.118, 0.   , 0.   , 0.   ,\n",
       "         0.   ],\n",
       "        [0.   , 0.   , 0.   , 0.   , 0.   , 0.133, 0.882, 0.784, 0.761,\n",
       "         0.745, 0.737, 0.753, 0.769, 0.753, 0.667, 0.792, 0.745, 0.788,\n",
       "         0.765, 0.784, 0.788, 0.82 , 0.89 , 0.196, 0.   , 0.   , 0.   ,\n",
       "         0.   ],\n",
       "        [0.   , 0.   , 0.   , 0.   , 0.   , 0.267, 0.882, 0.824, 0.827,\n",
       "         0.776, 0.753, 0.769, 0.8  , 0.769, 0.71 , 0.831, 0.773, 0.765,\n",
       "         0.753, 0.808, 0.863, 0.824, 0.898, 0.365, 0.   , 0.   , 0.   ,\n",
       "         0.   ],\n",
       "        [0.   , 0.   , 0.   , 0.   , 0.   , 0.435, 0.875, 0.89 , 0.992,\n",
       "         0.82 , 0.769, 0.8  , 0.827, 0.808, 0.718, 0.847, 0.808, 0.824,\n",
       "         0.796, 0.843, 0.957, 0.878, 0.89 , 0.588, 0.   , 0.   , 0.   ,\n",
       "         0.   ],\n",
       "        [0.   , 0.   , 0.   , 0.   , 0.   , 0.545, 0.882, 0.878, 1.   ,\n",
       "         0.792, 0.808, 0.831, 0.82 , 0.827, 0.745, 0.835, 0.792, 0.812,\n",
       "         0.808, 0.871, 1.   , 0.902, 0.863, 0.745, 0.   , 0.   , 0.   ,\n",
       "         0.   ],\n",
       "        [0.   , 0.   , 0.   , 0.   , 0.   , 0.706, 0.886, 0.878, 1.   ,\n",
       "         0.78 , 0.8  , 0.812, 0.839, 0.839, 0.745, 0.847, 0.808, 0.796,\n",
       "         0.804, 0.859, 0.953, 0.878, 0.839, 0.918, 0.   , 0.   , 0.   ,\n",
       "         0.   ],\n",
       "        [0.   , 0.   , 0.   , 0.   , 0.   , 0.882, 0.875, 0.894, 0.996,\n",
       "         0.82 , 0.808, 0.816, 0.835, 0.824, 0.749, 0.843, 0.812, 0.8  ,\n",
       "         0.816, 0.827, 0.976, 0.886, 0.839, 1.   , 0.149, 0.   , 0.   ,\n",
       "         0.   ],\n",
       "        [0.   , 0.   , 0.   , 0.   , 0.   , 0.98 , 0.91 , 0.941, 0.937,\n",
       "         0.827, 0.796, 0.82 , 0.804, 0.827, 0.773, 0.843, 0.816, 0.816,\n",
       "         0.839, 0.835, 0.937, 0.906, 0.859, 1.   , 0.318, 0.   , 0.   ,\n",
       "         0.   ],\n",
       "        [0.   , 0.   , 0.   , 0.   , 0.   , 0.973, 0.925, 0.969, 0.941,\n",
       "         0.796, 0.784, 0.816, 0.808, 0.839, 0.757, 0.835, 0.831, 0.816,\n",
       "         0.831, 0.827, 0.953, 0.949, 0.882, 0.996, 0.259, 0.   , 0.   ,\n",
       "         0.   ],\n",
       "        [0.   , 0.   , 0.   , 0.   , 0.   , 0.969, 0.902, 0.988, 0.886,\n",
       "         0.78 , 0.827, 0.792, 0.827, 0.835, 0.714, 0.835, 0.831, 0.808,\n",
       "         0.792, 0.859, 0.812, 0.969, 0.871, 0.929, 0.408, 0.   , 0.   ,\n",
       "         0.   ],\n",
       "        [0.   , 0.   , 0.   , 0.   , 0.039, 0.957, 0.859, 0.98 , 0.804,\n",
       "         0.78 , 0.82 , 0.792, 0.82 , 0.827, 0.741, 0.839, 0.808, 0.824,\n",
       "         0.784, 0.831, 0.604, 0.941, 0.816, 0.859, 0.549, 0.   , 0.   ,\n",
       "         0.   ],\n",
       "        [0.   , 0.   , 0.   , 0.   , 0.082, 1.   , 0.871, 0.933, 0.722,\n",
       "         0.824, 0.753, 0.808, 0.82 , 0.824, 0.741, 0.835, 0.827, 0.82 ,\n",
       "         0.753, 0.894, 0.608, 0.886, 0.933, 0.945, 0.651, 0.   , 0.   ,\n",
       "         0.   ],\n",
       "        [0.   , 0.   , 0.   , 0.   , 0.145, 0.961, 0.886, 0.945, 0.588,\n",
       "         0.773, 0.741, 0.8  , 0.82 , 0.824, 0.718, 0.835, 0.835, 0.788,\n",
       "         0.722, 0.843, 0.573, 0.847, 0.925, 0.882, 0.604, 0.   , 0.   ,\n",
       "         0.   ],\n",
       "        [0.   , 0.   , 0.   , 0.   , 0.227, 0.937, 0.89 , 1.   , 0.62 ,\n",
       "         0.757, 0.765, 0.8  , 0.82 , 0.835, 0.706, 0.812, 0.851, 0.78 ,\n",
       "         0.761, 0.827, 0.62 , 0.859, 0.925, 0.847, 0.592, 0.   , 0.   ,\n",
       "         0.   ],\n",
       "        [0.   , 0.   , 0.   , 0.   , 0.267, 0.914, 0.886, 0.953, 0.545,\n",
       "         0.784, 0.757, 0.804, 0.824, 0.816, 0.706, 0.804, 0.831, 0.796,\n",
       "         0.769, 0.847, 0.616, 0.702, 1.   , 0.847, 0.608, 0.   , 0.   ,\n",
       "         0.   ],\n",
       "        [0.   , 0.   , 0.   , 0.   , 0.318, 0.882, 0.878, 0.827, 0.541,\n",
       "         0.859, 0.725, 0.788, 0.835, 0.812, 0.773, 0.886, 0.831, 0.784,\n",
       "         0.745, 0.843, 0.718, 0.353, 1.   , 0.827, 0.576, 0.   , 0.   ,\n",
       "         0.   ],\n",
       "        [0.   , 0.   , 0.   , 0.   , 0.357, 0.824, 0.902, 0.62 , 0.447,\n",
       "         0.804, 0.733, 0.816, 0.82 , 0.808, 0.757, 0.824, 0.827, 0.8  ,\n",
       "         0.765, 0.8  , 0.71 , 0.09 , 1.   , 0.835, 0.62 , 0.   , 0.   ,\n",
       "         0.   ],\n",
       "        [0.   , 0.   , 0.   , 0.   , 0.341, 0.804, 0.91 , 0.427, 0.643,\n",
       "         1.   , 0.839, 0.878, 0.871, 0.824, 0.773, 0.839, 0.882, 0.871,\n",
       "         0.827, 0.863, 0.851, 0.   , 0.918, 0.847, 0.663, 0.   , 0.   ,\n",
       "         0.   ],\n",
       "        [0.   , 0.   , 0.   , 0.   , 0.361, 0.835, 0.91 , 0.573, 0.02 ,\n",
       "         0.525, 0.592, 0.635, 0.667, 0.718, 0.714, 0.643, 0.651, 0.698,\n",
       "         0.635, 0.612, 0.384, 0.   , 0.941, 0.882, 0.824, 0.   , 0.   ,\n",
       "         0.   ],\n",
       "        [0.   , 0.   , 0.   , 0.   , 0.169, 0.643, 0.808, 0.553, 0.   ,\n",
       "         0.   , 0.   , 0.   , 0.   , 0.   , 0.   , 0.   , 0.   , 0.   ,\n",
       "         0.   , 0.   , 0.   , 0.   , 0.498, 0.49 , 0.298, 0.   , 0.   ,\n",
       "         0.   ]]])"
      ]
     },
     "execution_count": 112,
     "metadata": {},
     "output_type": "execute_result"
    }
   ],
   "source": [
    "X_train[0]"
   ]
  },
  {
   "cell_type": "code",
   "execution_count": null,
   "id": "3385a288",
   "metadata": {},
   "outputs": [],
   "source": []
  },
  {
   "cell_type": "raw",
   "id": "57643fd1",
   "metadata": {},
   "source": [
    "from sklearn.ensemble import RandomForestClassifier\n",
    "from sklearn.ensemble import VotingClassifier\n",
    "from sklearn.linear_model import LogisticRegression\n",
    "from sklearn.svm import SVC\n",
    "\n",
    "log_clf = LogisticRegression()\n",
    "rnd_clf = RandomForestClassifier()\n",
    "svm_clf = SVC()\n",
    "voting_clf = VotingClassifier(\n",
    " estimators=[('lr', log_clf), ('rf', rnd_clf), ('svc', svm_clf)],\n",
    " voting='hard')\n",
    "voting_clf.fit(X_train, y_train)"
   ]
  },
  {
   "cell_type": "raw",
   "id": "b9b8a971",
   "metadata": {},
   "source": [
    "from sklearn.metrics import accuracy_score\n",
    "for clf in (log_clf, rnd_clf, svm_clf, voting_clf):\n",
    "    clf.fit(X_train, y_train)\n",
    "    y_pred = clf.predict(X_test)\n",
    "    print(clf.__class__.__name__, accuracy_score(y_test, y_pred))"
   ]
  }
 ],
 "metadata": {
  "kernelspec": {
   "display_name": "Python 3 (ipykernel)",
   "language": "python",
   "name": "python3"
  },
  "language_info": {
   "codemirror_mode": {
    "name": "ipython",
    "version": 3
   },
   "file_extension": ".py",
   "mimetype": "text/x-python",
   "name": "python",
   "nbconvert_exporter": "python",
   "pygments_lexer": "ipython3",
   "version": "3.8.8"
  }
 },
 "nbformat": 4,
 "nbformat_minor": 5
}
