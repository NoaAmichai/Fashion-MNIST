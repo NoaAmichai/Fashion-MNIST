{
 "cells": [
  {
   "cell_type": "code",
   "execution_count": 28,
   "id": "5ff4a41d",
   "metadata": {},
   "outputs": [],
   "source": [
    "import pandas as pd\n",
    "import numpy as np\n",
    "%matplotlib inline\n",
    "import matplotlib.pyplot as plt\n",
    "import seaborn as sns\n",
    "import warnings\n",
    "warnings.filterwarnings('ignore')\n",
    "\n",
    "import tensorflow as tf\n",
    "from sklearn.metrics import accuracy_score\n",
    "np.set_printoptions(precision=5)#show 5 number after decimal point "
   ]
  },
  {
   "cell_type": "code",
   "execution_count": 29,
   "id": "25da1a7b",
   "metadata": {},
   "outputs": [],
   "source": [
    "fashion_mnist = tf.keras.datasets.fashion_mnist\n",
    "\n",
    "(X_train, y_train), (X_test, y_test) = fashion_mnist.load_data()"
   ]
  },
  {
   "cell_type": "code",
   "execution_count": 30,
   "id": "76c3d88e",
   "metadata": {},
   "outputs": [],
   "source": [
    "class_names = [\"T-shirt/top\", \"Trouser\", \"Pullover\", \"Dress\", \"Coat\",\n",
    "               \"Sandal\", \"Shirt\", \"Sneaker\", \"Bag\", \"Ankle boot\"]"
   ]
  },
  {
   "cell_type": "code",
   "execution_count": 31,
   "id": "99b2d35e",
   "metadata": {},
   "outputs": [
    {
     "name": "stdout",
     "output_type": "stream",
     "text": [
      "X_train.shape : (60000, 28, 28)\n",
      "y_train.shape : (60000,)\n",
      "X_test.shape : (10000, 28, 28)\n",
      "y_test.shape : (10000,)\n"
     ]
    }
   ],
   "source": [
    "print(\"X_train.shape :\" ,X_train.shape)\n",
    "print(\"y_train.shape :\", y_train.shape)\n",
    "print (\"X_test.shape :\" , X_test.shape)\n",
    "print(\"y_test.shape :\", y_test.shape)"
   ]
  },
  {
   "cell_type": "code",
   "execution_count": 32,
   "id": "8c11f347",
   "metadata": {},
   "outputs": [],
   "source": [
    "X_train = X_train / 255.0\n",
    "X_test = X_test / 255.0"
   ]
  },
  {
   "cell_type": "raw",
   "id": "b403ef63",
   "metadata": {},
   "source": [
    "class_names[y_train[0]]"
   ]
  },
  {
   "cell_type": "code",
   "execution_count": 33,
   "id": "39a3de7d",
   "metadata": {},
   "outputs": [],
   "source": [
    "X_train = X_train.reshape(60000,28*28)\n",
    "X_test = X_test.reshape(10000, 28*28)"
   ]
  },
  {
   "cell_type": "markdown",
   "id": "08127378",
   "metadata": {},
   "source": [
    "y_train = y_train.reshape(60000,1)\n",
    "y_test = y_test.reshape(10000,1)"
   ]
  },
  {
   "cell_type": "code",
   "execution_count": 34,
   "id": "84056a22",
   "metadata": {
    "scrolled": false
   },
   "outputs": [
    {
     "name": "stdout",
     "output_type": "stream",
     "text": [
      "X_train.shape : (60000, 784)\n",
      "y_train.shape : (60000,)\n",
      "X_test.shape : (10000, 784)\n",
      "y_test.shape : (10000,)\n"
     ]
    }
   ],
   "source": [
    "print(\"X_train.shape :\" ,X_train.shape)\n",
    "print(\"y_train.shape :\", y_train.shape)\n",
    "print (\"X_test.shape :\" , X_test.shape)\n",
    "print(\"y_test.shape :\", y_test.shape)"
   ]
  },
  {
   "cell_type": "code",
   "execution_count": 35,
   "id": "80facad3",
   "metadata": {},
   "outputs": [
    {
     "name": "stdout",
     "output_type": "stream",
     "text": [
      "y_train : {0: 6000, 1: 6000, 2: 6000, 3: 6000, 4: 6000, 5: 6000, 6: 6000, 7: 6000, 8: 6000, 9: 6000}\n",
      "y_test : {0: 1000, 1: 1000, 2: 1000, 3: 1000, 4: 1000, 5: 1000, 6: 1000, 7: 1000, 8: 1000, 9: 1000}\n"
     ]
    }
   ],
   "source": [
    "#Check that we have balnced data\n",
    "unique, counts = np.unique(y_train, return_counts=True)\n",
    "print(\"y_train :\", dict(zip(unique, counts)))\n",
    "\n",
    "unique, counts = np.unique(y_test, return_counts=True)\n",
    "print(\"y_test :\", dict(zip(unique, counts)))"
   ]
  },
  {
   "cell_type": "markdown",
   "id": "1a9037b2",
   "metadata": {},
   "source": [
    "##  Models:\n",
    "\n",
    "We will try several models and in the end we will decide which is the best model.<br>\n",
    "We will try the following models:\n",
    "* Random Forest\n",
    "* KNN"
   ]
  },
  {
   "cell_type": "code",
   "execution_count": 36,
   "id": "c649578b",
   "metadata": {},
   "outputs": [
    {
     "name": "stdout",
     "output_type": "stream",
     "text": [
      "The DummyClassifier score is: 0.1\n"
     ]
    }
   ],
   "source": [
    "# Before we try real models, we will try a dummyClassifier. we will try to get high score than the dummyModel.\n",
    "from sklearn.dummy import DummyClassifier\n",
    "dummy_clf = DummyClassifier(strategy=\"most_frequent\", random_state=42)\n",
    "dummy_clf.fit(X_train, y_train)\n",
    "y_pred = dummy_clf.predict(X_test)\n",
    "print(\"The DummyClassifier score is:\" ,accuracy_score(y_pred,y_test))"
   ]
  },
  {
   "cell_type": "code",
   "execution_count": null,
   "id": "de8961d8",
   "metadata": {},
   "outputs": [],
   "source": [
    "from sklearn.metrics import classification_report\n",
    "from sklearn import metrics\n",
    "from sklearn.metrics import accuracy_score, precision_score, recall_score"
   ]
  },
  {
   "cell_type": "code",
   "execution_count": 38,
   "id": "3385a288",
   "metadata": {},
   "outputs": [
    {
     "name": "stdout",
     "output_type": "stream",
     "text": [
      "precision_score: 0.8578152450755355\n",
      "Accuracy: 0.8554\n",
      "Classification Report: \n",
      "               precision    recall  f1-score   support\n",
      "\n",
      "           0       0.77      0.85      0.81      1000\n",
      "           1       0.99      0.97      0.98      1000\n",
      "           2       0.73      0.82      0.77      1000\n",
      "           3       0.90      0.86      0.88      1000\n",
      "           4       0.79      0.77      0.78      1000\n",
      "           5       0.99      0.82      0.90      1000\n",
      "           6       0.66      0.57      0.61      1000\n",
      "           7       0.88      0.96      0.92      1000\n",
      "           8       0.97      0.95      0.96      1000\n",
      "           9       0.90      0.97      0.93      1000\n",
      "\n",
      "    accuracy                           0.86     10000\n",
      "   macro avg       0.86      0.86      0.85     10000\n",
      "weighted avg       0.86      0.86      0.85     10000\n",
      "\n"
     ]
    }
   ],
   "source": [
    "#KNN\n",
    "from sklearn.neighbors import KNeighborsClassifier\n",
    "\n",
    "KNN = KNeighborsClassifier().fit(X_train, y_train)\n",
    "y_pred = KNN.predict(X_test)\n",
    "precision = metrics.precision_score(y_test, y_pred, average=\"weighted\")          \n",
    "accuracy = metrics.accuracy_score(y_test, y_pred)\n",
    "print(\"precision_score:\", precision)\n",
    "print(\"Accuracy:\", accuracy)\n",
    "print(\"Classification Report: \\n\", metrics.classification_report(y_test, y_pred))"
   ]
  },
  {
   "cell_type": "markdown",
   "id": "1c77280e",
   "metadata": {},
   "source": [
    "KNN "
   ]
  },
  {
   "cell_type": "code",
   "execution_count": 39,
   "id": "a60d4552",
   "metadata": {},
   "outputs": [
    {
     "data": {
      "image/png": "[encoded data removed]",
      "text/plain": [
       "<Figure size 576x432 with 2 Axes>"
      ]
     },
     "metadata": {
      "needs_background": "light"
     },
     "output_type": "display_data"
    }
   ],
   "source": [
    "from sklearn.metrics import confusion_matrix\n",
    "\n",
    "cf_matrix = confusion_matrix(y_test, y_pred)\n",
    "fig, ax = plt.subplots(figsize=(8,6))\n",
    "ax = sns.heatmap(cf_matrix, annot=True, fmt='', cmap='Oranges')\n",
    "ax.set_title('Confusion Matrix\\n');\n",
    "ax.set_xlabel('\\nPredicted Values')\n",
    "ax.set_ylabel('Actual Values ');\n",
    "ax.xaxis.set_ticklabels([\"T-shirt/top\", \"Trouser\", \"Pullover\", \"Dress\", \"Coat\",\n",
    "               \"Sandal\", \"Shirt\", \"Sneaker\", \"Bag\", \"Ankle boot\"],rotation=90)\n",
    "ax.yaxis.set_ticklabels([\"T-shirt/top\", \"Trouser\", \"Pullover\", \"Dress\", \"Coat\",\n",
    "               \"Sandal\", \"Shirt\", \"Sneaker\", \"Bag\", \"Ankle boot\"],rotation=0)\n",
    "\n",
    "plt.show()"
   ]
  },
  {
   "cell_type": "code",
   "execution_count": 41,
   "id": "366463cd",
   "metadata": {},
   "outputs": [
    {
     "name": "stdout",
     "output_type": "stream",
     "text": [
      "Accuracy: 0.8764\n",
      "Classification Report: \n",
      "               precision    recall  f1-score   support\n",
      "\n",
      "           0       0.82      0.86      0.84      1000\n",
      "           1       0.99      0.96      0.98      1000\n",
      "           2       0.77      0.81      0.79      1000\n",
      "           3       0.88      0.90      0.89      1000\n",
      "           4       0.77      0.82      0.79      1000\n",
      "           5       0.98      0.96      0.97      1000\n",
      "           6       0.71      0.58      0.64      1000\n",
      "           7       0.93      0.95      0.94      1000\n",
      "           8       0.96      0.97      0.97      1000\n",
      "           9       0.95      0.94      0.95      1000\n",
      "\n",
      "    accuracy                           0.88     10000\n",
      "   macro avg       0.88      0.88      0.87     10000\n",
      "weighted avg       0.88      0.88      0.87     10000\n",
      "\n"
     ]
    }
   ],
   "source": [
    "# RandomForestClassifier\n",
    "from sklearn.ensemble import RandomForestClassifier\n",
    "\n",
    "RF = RandomForestClassifier(random_state=42).fit(X_train, y_train)\n",
    "y_pred = RF.predict(X_test)\n",
    "accuracy = metrics.accuracy_score(y_test, y_pred)\n",
    "print(\"Accuracy:\", accuracy)\n",
    "print(\"Classification Report: \\n\", metrics.classification_report(y_test, y_pred))"
   ]
  },
  {
   "cell_type": "code",
   "execution_count": null,
   "id": "b1e34a6a",
   "metadata": {},
   "outputs": [],
   "source": [
    "%%time\n",
    "from xgboost import XGBClassifier\n",
    "\n",
    "XGB = XGBClassifier(objective=\"multi:softprob\").fit(X_train, y_train)\n",
    "y_pred = XGB.predict(X_test)\n",
    "\n",
    "precision = metrics.precision_score(y_test, y_pred, average=\"weighted\")          \n",
    "accuracy = metrics.accuracy_score(y_test, y_pred)\n",
    "print(\"precision_score:\", precision)\n",
    "print(\"Accuracy:\", accuracy)\n",
    "print(\"Classification Report: \\n\", metrics.classification_report(y_test, y_pred))"
   ]
  },
  {
   "cell_type": "code",
   "execution_count": null,
   "id": "60d1c7c7",
   "metadata": {},
   "outputs": [],
   "source": [
    "#Searching for better performance out of the models with RandomizedSearch\n",
    "from sklearn.model_selection import RandomizedSearchCV"
   ]
  },
  {
   "cell_type": "code",
   "execution_count": null,
   "id": "ec293381",
   "metadata": {},
   "outputs": [],
   "source": []
  },
  {
   "cell_type": "code",
   "execution_count": null,
   "id": "1b265a73",
   "metadata": {},
   "outputs": [],
   "source": []
  },
  {
   "cell_type": "code",
   "execution_count": null,
   "id": "3aa8ea0d",
   "metadata": {},
   "outputs": [],
   "source": []
  },
  {
   "cell_type": "code",
   "execution_count": null,
   "id": "9436813c",
   "metadata": {},
   "outputs": [],
   "source": []
  }
 ],
 "metadata": {
  "kernelspec": {
   "display_name": "Python 3 (ipykernel)",
   "language": "python",
   "name": "python3"
  },
  "language_info": {
   "codemirror_mode": {
    "name": "ipython",
    "version": 3
   },
   "file_extension": ".py",
   "mimetype": "text/x-python",
   "name": "python",
   "nbconvert_exporter": "python",
   "pygments_lexer": "ipython3",
   "version": "3.8.8"
  }
 },
 "nbformat": 4,
 "nbformat_minor": 5
}
